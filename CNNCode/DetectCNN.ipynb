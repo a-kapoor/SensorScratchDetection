{
 "cells": [
  {
   "cell_type": "code",
   "execution_count": 1,
   "id": "incorporate-mountain",
   "metadata": {},
   "outputs": [
    {
     "name": "stderr",
     "output_type": "stream",
     "text": [
      "WARNING: Logging before flag parsing goes to stderr.\n",
      "W0413 10:08:54.221251 139834255828800 deprecation.py:506] From /cvmfs/sft.cern.ch/lcg/views/LCG_96python3/x86_64-centos7-gcc8-opt/lib/python3.6/site-packages/tensorflow/python/ops/init_ops.py:1251: calling VarianceScaling.__init__ (from tensorflow.python.ops.init_ops) with dtype is deprecated and will be removed in a future version.\n",
      "Instructions for updating:\n",
      "Call initializer instance with the dtype argument instead of passing it to the constructor\n"
     ]
    }
   ],
   "source": [
    "import numpy as np\n",
    "import pandas as pd \n",
    "import tensorflow as tf\n",
    "from tensorflow.keras.preprocessing.image import ImageDataGenerator, load_img\n",
    "from tensorflow.keras.utils import to_categorical\n",
    "from sklearn.model_selection import train_test_split\n",
    "import matplotlib.pyplot as plt\n",
    "import random\n",
    "import os\n",
    "\n",
    "from Config import *"
   ]
  },
  {
   "cell_type": "code",
   "execution_count": 2,
   "id": "retired-geneva",
   "metadata": {},
   "outputs": [
    {
     "name": "stdout",
     "output_type": "stream",
     "text": [
      "Folder \"results\" exist!\n"
     ]
    }
   ],
   "source": [
    "import os\n",
    "\n",
    "\n",
    "def folder_creat(name, directory):\n",
    "    os.chdir(directory)\n",
    "    fileli = os.listdir()\n",
    "    if name in fileli:\n",
    "        print(f'Folder \"{name}\" exist!')\n",
    "    else:\n",
    "        os.mkdir(name)\n",
    "        print(f'Folder \"{name}\" succesfully created!')\n",
    "        \n",
    "\n",
    "\n",
    "folder_creat(outputdirname, './')"
   ]
  },
  {
   "cell_type": "code",
   "execution_count": 3,
   "id": "appreciated-commonwealth",
   "metadata": {},
   "outputs": [],
   "source": [
    "from PIL import Image,ImageOps\n",
    "import numpy as np\n",
    "import glob\n",
    "\n",
    "def filetoarray(imagenum,inputfolder='./canny'):\n",
    "    from keras.preprocessing.image import load_img\n",
    "    from keras.preprocessing.image import img_to_array\n",
    "    from keras.preprocessing.image import array_to_img\n",
    "    img = load_img(inputfolder+'/sensorphoto-'+str(imagenum)+'-1.BMP.png',color_mode=\"grayscale\",target_size=targetinputshape)\n",
    "    img_array = img_to_array(img)\n",
    "    return img_array"
   ]
  },
  {
   "cell_type": "code",
   "execution_count": 4,
   "id": "endangered-detective",
   "metadata": {},
   "outputs": [
    {
     "name": "stdout",
     "output_type": "stream",
     "text": [
      "Found Training images\n"
     ]
    },
    {
     "name": "stderr",
     "output_type": "stream",
     "text": [
      "Using TensorFlow backend.\n"
     ]
    },
    {
     "name": "stdout",
     "output_type": "stream",
     "text": [
      "Scratched Images in Training dataset = 78\n",
      "Clean Images in Training dataset = 51\n",
      "Train shape: (129, 100, 100, 1)\n",
      "Found Testing images\n",
      "Scratched Images in Testing dataset = 94\n",
      "Clean Images in Testing dataset = 35\n",
      "Test shape: (129, 100, 100, 1)\n",
      "Empty Eval directory, will not evaluate\n"
     ]
    }
   ],
   "source": [
    "import os\n",
    "\n",
    "traindir = os.listdir(inputfolderTrain)\n",
    "if len(traindir) == 0:\n",
    "    print(\"Empty Training directory\")\n",
    "else:\n",
    "    print(\"Found Training images\")\n",
    "    trdf=pd.read_csv(ScratchFileTrain)\n",
    "    trdf['ImageLoc'] = trdf.ImageLoc.astype(int)\n",
    "    trdf['array'] = trdf.apply(lambda row: filetoarray(row.ImageLoc,inputfolderTrain), axis=1)\n",
    "    trdf['Scratched'] = 0\n",
    "    trdf.loc[trdf['Target'] ==11,'Scratched'] = 1\n",
    "    trdf.loc[trdf['Target'] ==1,'Scratched'] = 1\n",
    "    print('Scratched Images in Training dataset = '+str(len(trdf.query('Scratched==1'))))\n",
    "    print('Clean Images in Training dataset = '+str(len(trdf.query('Scratched==0'))))\n",
    "    X_train=np.array(list(trdf[\"array\"]))\n",
    "    Y_train=trdf[\"Scratched\"]\n",
    "    Y_train = to_categorical(Y_train)\n",
    "    print(\"Train shape: \"+str(X_train.shape))\n",
    "    \n",
    "testdir = os.listdir(inputfolderTest)\n",
    "if len(testdir) == 0:\n",
    "    print(\"Empty Testing directory\")\n",
    "else:\n",
    "    print(\"Found Testing images\")\n",
    "    tedf=pd.read_csv(ScratchFileTest)\n",
    "    tedf['ImageLoc'] = tedf.ImageLoc.astype(int)\n",
    "    tedf['array'] = tedf.apply(lambda row: filetoarray(row.ImageLoc,inputfolderTest), axis=1)\n",
    "    tedf['Scratched'] = 0\n",
    "    tedf.loc[tedf['Target'] ==11,'Scratched'] = 1\n",
    "    tedf.loc[tedf['Target'] ==1,'Scratched'] = 1\n",
    "    print('Scratched Images in Testing dataset = '+str(len(tedf.query('Scratched==1'))))\n",
    "    print('Clean Images in Testing dataset = '+str(len(tedf.query('Scratched==0'))))\n",
    "    X_test=np.array(list(tedf[\"array\"]))\n",
    "    Y_test=tedf[\"Scratched\"]\n",
    "    Y_test = to_categorical(Y_test)\n",
    "    print(\"Test shape: \"+str(X_test.shape))\n",
    "\n",
    "\n",
    "evaldir = os.listdir(inputfolderEvaluate)\n",
    "if len(evaldir) == 0:\n",
    "    print(\"Empty Eval directory, will not evaluate\")\n",
    "else:\n",
    "    print(\"Found Eval images\")\n",
    "    evdf=pd.read_csv(ScratchFileEvaluate)\n",
    "    evdf['ImageLoc'] = evdf.ImageLoc.astype(int)\n",
    "    evdf['array'] = evdf.apply(lambda row: filetoarray(row.ImageLoc,inputfolderEvaluate), axis=1)\n",
    "    evdf['Scratched'] = 0\n",
    "    evdf.loc[evdf['Target'] ==11,'Scratched'] = 1\n",
    "    evdf.loc[evdf['Target'] ==1,'Scratched'] = 1\n",
    "    print('Scratched Images in Evaluate dataset = '+str(len(evdf.query('Scratched==1'))))\n",
    "    print('Clean Images in Evaluate dataset = '+str(len(evdf.query('Scratched==0'))))\n",
    "    X_eval=np.array(list(evdf[\"array\"]))\n",
    "    Y_eval=evdf[\"Scratched\"]\n",
    "    Y_eval = to_categorical(Y_eval)\n",
    "    print(\"Eval shape: \"+str(X_eval.shape))"
   ]
  },
  {
   "cell_type": "code",
   "execution_count": 5,
   "id": "affecting-scotland",
   "metadata": {},
   "outputs": [
    {
     "name": "stdout",
     "output_type": "stream",
     "text": [
      "Epoch 1/50\n",
      "129/129 [==============================] - 1s 8ms/sample - loss: 15.1997 - acc: 0.5659\n",
      "Epoch 2/50\n",
      "129/129 [==============================] - 1s 8ms/sample - loss: 2.6946 - acc: 0.6512\n",
      "Epoch 3/50\n",
      "129/129 [==============================] - 1s 7ms/sample - loss: 0.6836 - acc: 0.6047\n",
      "Epoch 4/50\n",
      "129/129 [==============================] - 1s 8ms/sample - loss: 0.6809 - acc: 0.6047\n",
      "Epoch 5/50\n",
      "129/129 [==============================] - 1s 8ms/sample - loss: 0.6804 - acc: 0.6047\n",
      "Epoch 6/50\n",
      "129/129 [==============================] - 1s 8ms/sample - loss: 0.6799 - acc: 0.6047\n",
      "Epoch 7/50\n",
      "129/129 [==============================] - 1s 8ms/sample - loss: 0.6795 - acc: 0.6047\n",
      "Epoch 8/50\n",
      "129/129 [==============================] - 1s 8ms/sample - loss: 0.6790 - acc: 0.6047\n",
      "Epoch 9/50\n",
      "129/129 [==============================] - 1s 7ms/sample - loss: 0.6782 - acc: 0.6047\n",
      "Epoch 10/50\n",
      "129/129 [==============================] - 1s 8ms/sample - loss: 0.6773 - acc: 0.6047\n",
      "Epoch 11/50\n",
      "129/129 [==============================] - 1s 8ms/sample - loss: 0.6768 - acc: 0.6047\n",
      "Epoch 12/50\n",
      "129/129 [==============================] - 1s 8ms/sample - loss: 0.6758 - acc: 0.6047\n",
      "Epoch 13/50\n",
      "129/129 [==============================] - 1s 8ms/sample - loss: 0.6752 - acc: 0.6047\n",
      "Epoch 14/50\n",
      "129/129 [==============================] - 1s 8ms/sample - loss: 0.6746 - acc: 0.6047\n",
      "Epoch 15/50\n",
      "129/129 [==============================] - 1s 8ms/sample - loss: 0.6742 - acc: 0.6047\n",
      "Epoch 16/50\n",
      "129/129 [==============================] - 1s 7ms/sample - loss: 0.6735 - acc: 0.6047\n",
      "Epoch 17/50\n",
      "129/129 [==============================] - 1s 8ms/sample - loss: 0.6735 - acc: 0.6047\n",
      "Epoch 18/50\n",
      "129/129 [==============================] - 1s 8ms/sample - loss: 0.6735 - acc: 0.6047\n",
      "Epoch 19/50\n",
      "129/129 [==============================] - 1s 8ms/sample - loss: 0.6735 - acc: 0.6047\n",
      "Epoch 20/50\n",
      "129/129 [==============================] - 1s 8ms/sample - loss: 0.6730 - acc: 0.6047\n",
      "Epoch 21/50\n",
      "129/129 [==============================] - 1s 8ms/sample - loss: 0.6728 - acc: 0.6047\n",
      "Epoch 22/50\n",
      "129/129 [==============================] - 1s 8ms/sample - loss: 0.6728 - acc: 0.6047\n",
      "Epoch 23/50\n",
      "129/129 [==============================] - 1s 8ms/sample - loss: 0.6730 - acc: 0.6047\n",
      "Epoch 24/50\n",
      "129/129 [==============================] - 1s 8ms/sample - loss: 0.6732 - acc: 0.6047\n",
      "Epoch 25/50\n",
      "129/129 [==============================] - 1s 8ms/sample - loss: 0.6731 - acc: 0.6047\n",
      "Epoch 26/50\n",
      "129/129 [==============================] - 1s 7ms/sample - loss: 0.6729 - acc: 0.6047\n",
      "Epoch 27/50\n",
      "129/129 [==============================] - 1s 7ms/sample - loss: 0.6729 - acc: 0.6047\n",
      "Epoch 28/50\n",
      "129/129 [==============================] - 1s 7ms/sample - loss: 0.6728 - acc: 0.6047\n",
      "Epoch 29/50\n",
      "129/129 [==============================] - 1s 8ms/sample - loss: 0.6731 - acc: 0.6047\n",
      "Epoch 30/50\n",
      "129/129 [==============================] - 1s 7ms/sample - loss: 0.6733 - acc: 0.6047\n",
      "Epoch 31/50\n",
      "129/129 [==============================] - 1s 8ms/sample - loss: 0.6733 - acc: 0.6047\n",
      "Epoch 32/50\n",
      "129/129 [==============================] - 1s 7ms/sample - loss: 0.6730 - acc: 0.6047\n",
      "Epoch 33/50\n",
      "129/129 [==============================] - 1s 8ms/sample - loss: 0.6733 - acc: 0.6047\n",
      "Epoch 34/50\n",
      "129/129 [==============================] - 1s 8ms/sample - loss: 0.6738 - acc: 0.6047\n",
      "Epoch 35/50\n",
      "129/129 [==============================] - 1s 8ms/sample - loss: 0.6741 - acc: 0.6047\n",
      "Epoch 36/50\n",
      "129/129 [==============================] - 1s 8ms/sample - loss: 0.6740 - acc: 0.6047\n",
      "Epoch 37/50\n",
      "129/129 [==============================] - 1s 8ms/sample - loss: 0.6737 - acc: 0.6047\n",
      "Epoch 38/50\n",
      "129/129 [==============================] - 1s 8ms/sample - loss: 0.6734 - acc: 0.6047\n",
      "Epoch 39/50\n",
      "129/129 [==============================] - 1s 8ms/sample - loss: 0.6735 - acc: 0.6047\n",
      "Epoch 40/50\n",
      "129/129 [==============================] - 1s 7ms/sample - loss: 0.6739 - acc: 0.6047\n",
      "Epoch 41/50\n",
      "129/129 [==============================] - 1s 7ms/sample - loss: 0.6747 - acc: 0.6047\n",
      "Epoch 42/50\n",
      "129/129 [==============================] - 1s 8ms/sample - loss: 0.6752 - acc: 0.6047\n",
      "Epoch 43/50\n",
      "129/129 [==============================] - 1s 8ms/sample - loss: 0.6751 - acc: 0.6047\n",
      "Epoch 44/50\n",
      "129/129 [==============================] - 1s 7ms/sample - loss: 0.6751 - acc: 0.6047\n",
      "Epoch 45/50\n",
      "129/129 [==============================] - 1s 7ms/sample - loss: 0.6753 - acc: 0.6047\n",
      "Epoch 46/50\n",
      "129/129 [==============================] - 1s 7ms/sample - loss: 0.6759 - acc: 0.6047\n",
      "Epoch 47/50\n",
      "129/129 [==============================] - 1s 7ms/sample - loss: 0.6765 - acc: 0.6047\n",
      "Epoch 48/50\n",
      "129/129 [==============================] - 1s 7ms/sample - loss: 0.6762 - acc: 0.6047\n",
      "Epoch 49/50\n",
      "129/129 [==============================] - 1s 7ms/sample - loss: 0.6757 - acc: 0.6047\n",
      "Epoch 50/50\n",
      "129/129 [==============================] - 1s 7ms/sample - loss: 0.6748 - acc: 0.6047\n"
     ]
    }
   ],
   "source": [
    "from tensorflow.keras import optimizers\n",
    "from tensorflow.keras.losses import categorical_crossentropy\n",
    "model.compile(loss=categorical_crossentropy,\n",
    "              optimizer=optimizers.Adam(lr=learningrate),\n",
    "              metrics=['accuracy'])\n",
    "\n",
    "trainhistory=model.fit(X_train, Y_train,batch_size=batch_size,epochs=epochs,verbose=1)"
   ]
  },
  {
   "cell_type": "code",
   "execution_count": 6,
   "id": "local-covering",
   "metadata": {},
   "outputs": [
    {
     "name": "stdout",
     "output_type": "stream",
     "text": [
      "Train loss: 0.6741139398988827\n",
      "Train accuracy: 0.60465115\n"
     ]
    }
   ],
   "source": [
    "if len(traindir) != 0:\n",
    "    score = model.evaluate(X_train, Y_train, verbose=0)\n",
    "    Y_train_pred = model.predict_classes(X_train)\n",
    "    print('Train loss:', score[0])\n",
    "    print('Train accuracy:', score[1])"
   ]
  },
  {
   "cell_type": "code",
   "execution_count": 7,
   "id": "employed-pledge",
   "metadata": {},
   "outputs": [
    {
     "name": "stdout",
     "output_type": "stream",
     "text": [
      "Test loss: 0.6410745807396349\n",
      "Test accuracy: 0.72868216\n"
     ]
    }
   ],
   "source": [
    "if len(testdir) != 0:\n",
    "    score = model.evaluate(X_test, Y_test, verbose=0)\n",
    "    Y_test_pred = model.predict_classes(X_test)\n",
    "    print('Test loss:', score[0])\n",
    "    print('Test accuracy:', score[1])"
   ]
  },
  {
   "cell_type": "code",
   "execution_count": 8,
   "id": "alpine-pointer",
   "metadata": {},
   "outputs": [],
   "source": [
    "if len(evaldir) != 0:\n",
    "    score = model.evaluate(X_eval, Y_eval, verbose=0)\n",
    "    Y_eval_pred = model.predict_classes(X_eval)\n",
    "    print('Test loss:', score[0])\n",
    "    print('Test accuracy:', score[1])"
   ]
  },
  {
   "cell_type": "code",
   "execution_count": 10,
   "id": "inside-cooling",
   "metadata": {},
   "outputs": [
    {
     "data": {
      "image/png": "[encoded data removed]",
      "text/plain": [
       "<Figure size 432x288 with 1 Axes>"
      ]
     },
     "metadata": {
      "needs_background": "light"
     },
     "output_type": "display_data"
    }
   ],
   "source": [
    "from sklearn import metrics\n",
    "fpr, tpr, _ = metrics.roc_curve(np.argmax(Y_test,axis=-1),  Y_test_pred)\n",
    "auc = metrics.roc_auc_score(np.argmax(Y_test,axis=-1),  Y_test_pred)\n",
    "plt.plot(fpr,tpr,label=\"test, auc=\"+str(auc))\n",
    "plt.legend(loc=4)\n",
    "plt.savefig(outputdirname+\"/Test-ROC.png\")"
   ]
  },
  {
   "cell_type": "code",
   "execution_count": 11,
   "id": "extra-journalism",
   "metadata": {},
   "outputs": [
    {
     "data": {
      "image/png": "[encoded data removed]",
      "text/plain": [
       "<Figure size 432x288 with 1 Axes>"
      ]
     },
     "metadata": {
      "needs_background": "light"
     },
     "output_type": "display_data"
    }
   ],
   "source": [
    "fpr, tpr, _ = metrics.roc_curve(np.argmax(Y_train,axis=-1),  Y_train_pred)\n",
    "auc = metrics.roc_auc_score(np.argmax(Y_train,axis=-1),  Y_train_pred)\n",
    "plt.plot(fpr,tpr,label=\"train, auc=\"+str(auc))\n",
    "plt.legend(loc=4)\n",
    "plt.savefig(outputdirname+\"/Train-ROC.png\")"
   ]
  },
  {
   "cell_type": "code",
   "execution_count": 12,
   "id": "stainless-wisconsin",
   "metadata": {},
   "outputs": [
    {
     "name": "stdout",
     "output_type": "stream",
     "text": [
      "No eval images, so won't evaluate\n"
     ]
    }
   ],
   "source": [
    "if len(evaldir) != 0:\n",
    "    print(\"True Eval\")\n",
    "    print(np.argmax(Y_train, axis=-1))\n",
    "    print(\"Predicted Eval\")\n",
    "    print(Y_train_pred)\n",
    "else:\n",
    "    print(\"No eval images, so won't evaluate\")"
   ]
  },
  {
   "cell_type": "code",
   "execution_count": 13,
   "id": "stopped-speaker",
   "metadata": {},
   "outputs": [
    {
     "name": "stdout",
     "output_type": "stream",
     "text": [
      "Find plots in directory: results\n"
     ]
    }
   ],
   "source": [
    "print(\"Find plots in directory: \"+outputdirname)"
   ]
  },
  {
   "cell_type": "code",
   "execution_count": null,
   "id": "immediate-privacy",
   "metadata": {},
   "outputs": [],
   "source": []
  }
 ],
 "metadata": {
  "kernelspec": {
   "display_name": "Python 3",
   "language": "python",
   "name": "python3"
  },
  "language_info": {
   "codemirror_mode": {
    "name": "ipython",
    "version": 3
   },
   "file_extension": ".py",
   "mimetype": "text/x-python",
   "name": "python",
   "nbconvert_exporter": "python",
   "pygments_lexer": "ipython3",
   "version": "3.6.5"
  }
 },
 "nbformat": 4,
 "nbformat_minor": 5
}
